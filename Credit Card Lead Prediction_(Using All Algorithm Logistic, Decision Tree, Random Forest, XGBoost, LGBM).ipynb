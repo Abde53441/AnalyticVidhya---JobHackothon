{
 "cells": [
  {
   "cell_type": "markdown",
   "metadata": {},
   "source": [
    "# 1) LOADING MODULES AND DATASETS"
   ]
  },
  {
   "cell_type": "code",
   "execution_count": 1,
   "metadata": {},
   "outputs": [],
   "source": [
    "##Loading modules \n",
    "import warnings\n",
    "warnings.filterwarnings('ignore')\n",
    "\n",
    "import numpy as np ## array processing\n",
    "import pandas as pd ## dataframe processing\n",
    "import math\n",
    "import re\n",
    "\n",
    "from sklearn.preprocessing import OneHotEncoder, MinMaxScaler, StandardScaler, OrdinalEncoder ##encoding\n",
    "from sklearn.preprocessing import LabelEncoder ##encoding\n",
    "from sklearn.utils import resample ## DataSampling for unbalanced data\n",
    "from sklearn.compose import ColumnTransformer, make_column_transformer ##ColumnTransformer\n",
    "from sklearn.pipeline import Pipeline, make_pipeline ## Pipeline\n",
    "from sklearn.model_selection import train_test_split,cross_val_score,GridSearchCV,RandomizedSearchCV ##cross validation\n",
    "from sklearn.model_selection import KFold, StratifiedKFold\n",
    "from sklearn import metrics\n",
    "from scipy.stats import zscore\n",
    "from sklearn.preprocessing import LabelEncoder,StandardScaler\n",
    "from sklearn.model_selection import train_test_split,GridSearchCV\n",
    "from sklearn.decomposition import PCA\n",
    "from sklearn.metrics import precision_score, recall_score, confusion_matrix, f1_score, roc_auc_score, roc_curve\n",
    "from sklearn.metrics import accuracy_score,classification_report,confusion_matrix,roc_auc_score,roc_curve\n",
    "from sklearn.metrics import auc\n",
    "from sklearn.metrics import plot_roc_curve\n",
    "from sklearn.linear_model import LogisticRegression\n",
    "from sklearn.naive_bayes import MultinomialNB\n",
    "from sklearn.neighbors import KNeighborsClassifier\n",
    "from sklearn.ensemble import RandomForestClassifier\n",
    "from sklearn.svm import SVC\n",
    "from sklearn.tree import DecisionTreeClassifier\n",
    "from sklearn.ensemble import AdaBoostClassifier,GradientBoostingClassifier\n",
    "from sklearn.model_selection import cross_val_score\n",
    "from sklearn.naive_bayes import GaussianNB\n",
    "import xgboost as xg\n",
    "from xgboost import XGBClassifier\n",
    "from sklearn.utils import class_weight\n",
    "from lightgbm import LGBMClassifier\n",
    "\n",
    "\n",
    "import eli5 ##names from transformer\n",
    "import xgboost as xgbs ## Boosting -Xgboost\n",
    "import seaborn as sns ##Visualization\n",
    "import matplotlib.pyplot as plt ## Visualization\n",
    "import plotly.express as px ##Visualiztion\n",
    "from yellowbrick import classifier, features, regressor ## ML Visualization\n",
    "import pickle\n",
    "import re"
   ]
  },
  {
   "cell_type": "code",
   "execution_count": 2,
   "metadata": {},
   "outputs": [],
   "source": [
    "df_train = pd.read_csv(r'/Users/Humza Ali/OneDrive/Documents/Data/Practise/Credit/Credit_train.csv')\n",
    "df_train['source'] = 'train'\n",
    "df_test = pd.read_csv(r'/Users/Humza Ali/OneDrive/Documents/Data/Practise/Credit/Credit_test.csv')\n",
    "df_test[\"source\"] = 'test'\n",
    "df = pd.concat([df_train, df_test], ignore_index = True)"
   ]
  },
  {
   "cell_type": "code",
   "execution_count": 3,
   "metadata": {
    "scrolled": false
   },
   "outputs": [
    {
     "data": {
      "text/html": [
       "<div>\n",
       "<style scoped>\n",
       "    .dataframe tbody tr th:only-of-type {\n",
       "        vertical-align: middle;\n",
       "    }\n",
       "\n",
       "    .dataframe tbody tr th {\n",
       "        vertical-align: top;\n",
       "    }\n",
       "\n",
       "    .dataframe thead th {\n",
       "        text-align: right;\n",
       "    }\n",
       "</style>\n",
       "<table border=\"1\" class=\"dataframe\">\n",
       "  <thead>\n",
       "    <tr style=\"text-align: right;\">\n",
       "      <th></th>\n",
       "      <th>ID</th>\n",
       "      <th>Gender</th>\n",
       "      <th>Age</th>\n",
       "      <th>Region_Code</th>\n",
       "      <th>Occupation</th>\n",
       "      <th>Channel_Code</th>\n",
       "      <th>Vintage</th>\n",
       "      <th>Credit_Product</th>\n",
       "      <th>Avg_Account_Balance</th>\n",
       "      <th>Is_Active</th>\n",
       "      <th>Is_Lead</th>\n",
       "      <th>source</th>\n",
       "    </tr>\n",
       "  </thead>\n",
       "  <tbody>\n",
       "    <tr>\n",
       "      <th>0</th>\n",
       "      <td>NNVBBKZB</td>\n",
       "      <td>Female</td>\n",
       "      <td>73</td>\n",
       "      <td>RG268</td>\n",
       "      <td>Other</td>\n",
       "      <td>X3</td>\n",
       "      <td>43</td>\n",
       "      <td>No</td>\n",
       "      <td>1045696</td>\n",
       "      <td>No</td>\n",
       "      <td>0.0</td>\n",
       "      <td>train</td>\n",
       "    </tr>\n",
       "    <tr>\n",
       "      <th>1</th>\n",
       "      <td>IDD62UNG</td>\n",
       "      <td>Female</td>\n",
       "      <td>30</td>\n",
       "      <td>RG277</td>\n",
       "      <td>Salaried</td>\n",
       "      <td>X1</td>\n",
       "      <td>32</td>\n",
       "      <td>No</td>\n",
       "      <td>581988</td>\n",
       "      <td>No</td>\n",
       "      <td>0.0</td>\n",
       "      <td>train</td>\n",
       "    </tr>\n",
       "    <tr>\n",
       "      <th>2</th>\n",
       "      <td>HD3DSEMC</td>\n",
       "      <td>Female</td>\n",
       "      <td>56</td>\n",
       "      <td>RG268</td>\n",
       "      <td>Self_Employed</td>\n",
       "      <td>X3</td>\n",
       "      <td>26</td>\n",
       "      <td>No</td>\n",
       "      <td>1484315</td>\n",
       "      <td>Yes</td>\n",
       "      <td>0.0</td>\n",
       "      <td>train</td>\n",
       "    </tr>\n",
       "    <tr>\n",
       "      <th>3</th>\n",
       "      <td>BF3NC7KV</td>\n",
       "      <td>Male</td>\n",
       "      <td>34</td>\n",
       "      <td>RG270</td>\n",
       "      <td>Salaried</td>\n",
       "      <td>X1</td>\n",
       "      <td>19</td>\n",
       "      <td>No</td>\n",
       "      <td>470454</td>\n",
       "      <td>No</td>\n",
       "      <td>0.0</td>\n",
       "      <td>train</td>\n",
       "    </tr>\n",
       "    <tr>\n",
       "      <th>4</th>\n",
       "      <td>TEASRWXV</td>\n",
       "      <td>Female</td>\n",
       "      <td>30</td>\n",
       "      <td>RG282</td>\n",
       "      <td>Salaried</td>\n",
       "      <td>X1</td>\n",
       "      <td>33</td>\n",
       "      <td>No</td>\n",
       "      <td>886787</td>\n",
       "      <td>No</td>\n",
       "      <td>0.0</td>\n",
       "      <td>train</td>\n",
       "    </tr>\n",
       "  </tbody>\n",
       "</table>\n",
       "</div>"
      ],
      "text/plain": [
       "         ID  Gender  Age Region_Code     Occupation Channel_Code  Vintage  \\\n",
       "0  NNVBBKZB  Female   73       RG268          Other           X3       43   \n",
       "1  IDD62UNG  Female   30       RG277       Salaried           X1       32   \n",
       "2  HD3DSEMC  Female   56       RG268  Self_Employed           X3       26   \n",
       "3  BF3NC7KV    Male   34       RG270       Salaried           X1       19   \n",
       "4  TEASRWXV  Female   30       RG282       Salaried           X1       33   \n",
       "\n",
       "  Credit_Product  Avg_Account_Balance Is_Active  Is_Lead source  \n",
       "0             No              1045696        No      0.0  train  \n",
       "1             No               581988        No      0.0  train  \n",
       "2             No              1484315       Yes      0.0  train  \n",
       "3             No               470454        No      0.0  train  \n",
       "4             No               886787        No      0.0  train  "
      ]
     },
     "execution_count": 3,
     "metadata": {},
     "output_type": "execute_result"
    }
   ],
   "source": [
    "df.head()"
   ]
  },
  {
   "cell_type": "code",
   "execution_count": 4,
   "metadata": {},
   "outputs": [
    {
     "data": {
      "text/html": [
       "<div>\n",
       "<style scoped>\n",
       "    .dataframe tbody tr th:only-of-type {\n",
       "        vertical-align: middle;\n",
       "    }\n",
       "\n",
       "    .dataframe tbody tr th {\n",
       "        vertical-align: top;\n",
       "    }\n",
       "\n",
       "    .dataframe thead th {\n",
       "        text-align: right;\n",
       "    }\n",
       "</style>\n",
       "<table border=\"1\" class=\"dataframe\">\n",
       "  <thead>\n",
       "    <tr style=\"text-align: right;\">\n",
       "      <th></th>\n",
       "      <th>ID</th>\n",
       "      <th>Gender</th>\n",
       "      <th>Age</th>\n",
       "      <th>Region_Code</th>\n",
       "      <th>Occupation</th>\n",
       "      <th>Channel_Code</th>\n",
       "      <th>Vintage</th>\n",
       "      <th>Credit_Product</th>\n",
       "      <th>Avg_Account_Balance</th>\n",
       "      <th>Is_Active</th>\n",
       "      <th>Is_Lead</th>\n",
       "      <th>source</th>\n",
       "    </tr>\n",
       "  </thead>\n",
       "  <tbody>\n",
       "    <tr>\n",
       "      <th>351032</th>\n",
       "      <td>DBENJOYI</td>\n",
       "      <td>Male</td>\n",
       "      <td>52</td>\n",
       "      <td>RG268</td>\n",
       "      <td>Salaried</td>\n",
       "      <td>X2</td>\n",
       "      <td>86</td>\n",
       "      <td>Yes</td>\n",
       "      <td>4242558</td>\n",
       "      <td>Yes</td>\n",
       "      <td>NaN</td>\n",
       "      <td>test</td>\n",
       "    </tr>\n",
       "    <tr>\n",
       "      <th>351033</th>\n",
       "      <td>CWQ72DWS</td>\n",
       "      <td>Male</td>\n",
       "      <td>55</td>\n",
       "      <td>RG277</td>\n",
       "      <td>Other</td>\n",
       "      <td>X2</td>\n",
       "      <td>86</td>\n",
       "      <td>Yes</td>\n",
       "      <td>1159153</td>\n",
       "      <td>No</td>\n",
       "      <td>NaN</td>\n",
       "      <td>test</td>\n",
       "    </tr>\n",
       "    <tr>\n",
       "      <th>351034</th>\n",
       "      <td>HDESC8GU</td>\n",
       "      <td>Male</td>\n",
       "      <td>35</td>\n",
       "      <td>RG254</td>\n",
       "      <td>Salaried</td>\n",
       "      <td>X4</td>\n",
       "      <td>15</td>\n",
       "      <td>No</td>\n",
       "      <td>1703727</td>\n",
       "      <td>No</td>\n",
       "      <td>NaN</td>\n",
       "      <td>test</td>\n",
       "    </tr>\n",
       "    <tr>\n",
       "      <th>351035</th>\n",
       "      <td>2PW4SFCA</td>\n",
       "      <td>Male</td>\n",
       "      <td>53</td>\n",
       "      <td>RG254</td>\n",
       "      <td>Other</td>\n",
       "      <td>X3</td>\n",
       "      <td>93</td>\n",
       "      <td>No</td>\n",
       "      <td>737178</td>\n",
       "      <td>Yes</td>\n",
       "      <td>NaN</td>\n",
       "      <td>test</td>\n",
       "    </tr>\n",
       "    <tr>\n",
       "      <th>351036</th>\n",
       "      <td>F2NOYPPZ</td>\n",
       "      <td>Male</td>\n",
       "      <td>27</td>\n",
       "      <td>RG256</td>\n",
       "      <td>Salaried</td>\n",
       "      <td>X1</td>\n",
       "      <td>21</td>\n",
       "      <td>No</td>\n",
       "      <td>591565</td>\n",
       "      <td>No</td>\n",
       "      <td>NaN</td>\n",
       "      <td>test</td>\n",
       "    </tr>\n",
       "  </tbody>\n",
       "</table>\n",
       "</div>"
      ],
      "text/plain": [
       "              ID Gender  Age Region_Code Occupation Channel_Code  Vintage  \\\n",
       "351032  DBENJOYI   Male   52       RG268   Salaried           X2       86   \n",
       "351033  CWQ72DWS   Male   55       RG277      Other           X2       86   \n",
       "351034  HDESC8GU   Male   35       RG254   Salaried           X4       15   \n",
       "351035  2PW4SFCA   Male   53       RG254      Other           X3       93   \n",
       "351036  F2NOYPPZ   Male   27       RG256   Salaried           X1       21   \n",
       "\n",
       "       Credit_Product  Avg_Account_Balance Is_Active  Is_Lead source  \n",
       "351032            Yes              4242558       Yes      NaN   test  \n",
       "351033            Yes              1159153        No      NaN   test  \n",
       "351034             No              1703727        No      NaN   test  \n",
       "351035             No               737178       Yes      NaN   test  \n",
       "351036             No               591565        No      NaN   test  "
      ]
     },
     "execution_count": 4,
     "metadata": {},
     "output_type": "execute_result"
    }
   ],
   "source": [
    "df.tail()"
   ]
  },
  {
   "cell_type": "markdown",
   "metadata": {},
   "source": [
    "# 2) BIVARIATE ANALYSIS FEATURE ENGINEERING AND EDA"
   ]
  },
  {
   "cell_type": "markdown",
   "metadata": {},
   "source": [
    "## 1) CHECKING AND CLEANING DATASETS"
   ]
  },
  {
   "cell_type": "code",
   "execution_count": 5,
   "metadata": {},
   "outputs": [
    {
     "data": {
      "text/plain": [
       "(351037, 12)"
      ]
     },
     "execution_count": 5,
     "metadata": {},
     "output_type": "execute_result"
    }
   ],
   "source": [
    "df.shape ## Checking No of rows and column in datasets"
   ]
  },
  {
   "cell_type": "code",
   "execution_count": 6,
   "metadata": {},
   "outputs": [
    {
     "data": {
      "text/plain": [
       "ID                      object\n",
       "Gender                  object\n",
       "Age                      int64\n",
       "Region_Code             object\n",
       "Occupation              object\n",
       "Channel_Code            object\n",
       "Vintage                  int64\n",
       "Credit_Product          object\n",
       "Avg_Account_Balance      int64\n",
       "Is_Active               object\n",
       "Is_Lead                float64\n",
       "source                  object\n",
       "dtype: object"
      ]
     },
     "execution_count": 6,
     "metadata": {},
     "output_type": "execute_result"
    }
   ],
   "source": [
    "df.dtypes # Checking datatypes of datasets"
   ]
  },
  {
   "cell_type": "code",
   "execution_count": 7,
   "metadata": {},
   "outputs": [
    {
     "data": {
      "text/html": [
       "<div>\n",
       "<style scoped>\n",
       "    .dataframe tbody tr th:only-of-type {\n",
       "        vertical-align: middle;\n",
       "    }\n",
       "\n",
       "    .dataframe tbody tr th {\n",
       "        vertical-align: top;\n",
       "    }\n",
       "\n",
       "    .dataframe thead th {\n",
       "        text-align: right;\n",
       "    }\n",
       "</style>\n",
       "<table border=\"1\" class=\"dataframe\">\n",
       "  <thead>\n",
       "    <tr style=\"text-align: right;\">\n",
       "      <th></th>\n",
       "      <th>Age</th>\n",
       "      <th>Vintage</th>\n",
       "      <th>Avg_Account_Balance</th>\n",
       "      <th>Is_Lead</th>\n",
       "    </tr>\n",
       "  </thead>\n",
       "  <tbody>\n",
       "    <tr>\n",
       "      <th>count</th>\n",
       "      <td>351037.000000</td>\n",
       "      <td>351037.000000</td>\n",
       "      <td>3.510370e+05</td>\n",
       "      <td>245725.000000</td>\n",
       "    </tr>\n",
       "    <tr>\n",
       "      <th>mean</th>\n",
       "      <td>43.860716</td>\n",
       "      <td>46.924244</td>\n",
       "      <td>1.130141e+06</td>\n",
       "      <td>0.237208</td>\n",
       "    </tr>\n",
       "    <tr>\n",
       "      <th>std</th>\n",
       "      <td>14.841932</td>\n",
       "      <td>32.329303</td>\n",
       "      <td>8.569530e+05</td>\n",
       "      <td>0.425372</td>\n",
       "    </tr>\n",
       "    <tr>\n",
       "      <th>min</th>\n",
       "      <td>23.000000</td>\n",
       "      <td>7.000000</td>\n",
       "      <td>2.079000e+04</td>\n",
       "      <td>0.000000</td>\n",
       "    </tr>\n",
       "    <tr>\n",
       "      <th>25%</th>\n",
       "      <td>30.000000</td>\n",
       "      <td>20.000000</td>\n",
       "      <td>6.041850e+05</td>\n",
       "      <td>0.000000</td>\n",
       "    </tr>\n",
       "    <tr>\n",
       "      <th>50%</th>\n",
       "      <td>43.000000</td>\n",
       "      <td>32.000000</td>\n",
       "      <td>8.951620e+05</td>\n",
       "      <td>0.000000</td>\n",
       "    </tr>\n",
       "    <tr>\n",
       "      <th>75%</th>\n",
       "      <td>54.000000</td>\n",
       "      <td>73.000000</td>\n",
       "      <td>1.368152e+06</td>\n",
       "      <td>0.000000</td>\n",
       "    </tr>\n",
       "    <tr>\n",
       "      <th>max</th>\n",
       "      <td>85.000000</td>\n",
       "      <td>135.000000</td>\n",
       "      <td>1.035201e+07</td>\n",
       "      <td>1.000000</td>\n",
       "    </tr>\n",
       "  </tbody>\n",
       "</table>\n",
       "</div>"
      ],
      "text/plain": [
       "                 Age        Vintage  Avg_Account_Balance        Is_Lead\n",
       "count  351037.000000  351037.000000         3.510370e+05  245725.000000\n",
       "mean       43.860716      46.924244         1.130141e+06       0.237208\n",
       "std        14.841932      32.329303         8.569530e+05       0.425372\n",
       "min        23.000000       7.000000         2.079000e+04       0.000000\n",
       "25%        30.000000      20.000000         6.041850e+05       0.000000\n",
       "50%        43.000000      32.000000         8.951620e+05       0.000000\n",
       "75%        54.000000      73.000000         1.368152e+06       0.000000\n",
       "max        85.000000     135.000000         1.035201e+07       1.000000"
      ]
     },
     "execution_count": 7,
     "metadata": {},
     "output_type": "execute_result"
    }
   ],
   "source": [
    "df.describe() ## Checking Mean STD of Datasets"
   ]
  },
  {
   "cell_type": "code",
   "execution_count": 8,
   "metadata": {},
   "outputs": [
    {
     "data": {
      "text/plain": [
       "ID                     351037\n",
       "Gender                      2\n",
       "Age                        63\n",
       "Region_Code                35\n",
       "Occupation                  4\n",
       "Channel_Code                4\n",
       "Vintage                    66\n",
       "Credit_Product              2\n",
       "Avg_Account_Balance    162137\n",
       "Is_Active                   2\n",
       "Is_Lead                     2\n",
       "source                      2\n",
       "dtype: int64"
      ]
     },
     "execution_count": 8,
     "metadata": {},
     "output_type": "execute_result"
    }
   ],
   "source": [
    "df.nunique(axis=0,dropna=True) ## Checking Unique value in datasets"
   ]
  },
  {
   "cell_type": "code",
   "execution_count": 9,
   "metadata": {
    "scrolled": true
   },
   "outputs": [
    {
     "data": {
      "text/plain": [
       "ID                          0\n",
       "Gender                      0\n",
       "Age                         0\n",
       "Region_Code                 0\n",
       "Occupation                  0\n",
       "Channel_Code                0\n",
       "Vintage                     0\n",
       "Credit_Product          41847\n",
       "Avg_Account_Balance         0\n",
       "Is_Active                   0\n",
       "Is_Lead                105312\n",
       "source                      0\n",
       "dtype: int64"
      ]
     },
     "execution_count": 9,
     "metadata": {},
     "output_type": "execute_result"
    }
   ],
   "source": [
    "df.isnull().sum() ## Checking any Null or Missing Values in datasets"
   ]
  },
  {
   "cell_type": "code",
   "execution_count": 10,
   "metadata": {},
   "outputs": [],
   "source": [
    "df[\"Credit_Product\"] = df[\"Credit_Product\"].fillna(\"NA\")"
   ]
  },
  {
   "cell_type": "code",
   "execution_count": 11,
   "metadata": {},
   "outputs": [
    {
     "data": {
      "text/plain": [
       "ID                          0\n",
       "Gender                      0\n",
       "Age                         0\n",
       "Region_Code                 0\n",
       "Occupation                  0\n",
       "Channel_Code                0\n",
       "Vintage                     0\n",
       "Credit_Product              0\n",
       "Avg_Account_Balance         0\n",
       "Is_Active                   0\n",
       "Is_Lead                105312\n",
       "source                      0\n",
       "dtype: int64"
      ]
     },
     "execution_count": 11,
     "metadata": {},
     "output_type": "execute_result"
    }
   ],
   "source": [
    "df.isnull().sum()"
   ]
  },
  {
   "cell_type": "code",
   "execution_count": 12,
   "metadata": {},
   "outputs": [],
   "source": [
    "df[\"Is_Active\"].replace([\"Yes\", \"No\"],[1,0],inplace = True)\n",
    "df[\"Is_Active\"] = df[\"Is_Active\"].astype(float)"
   ]
  },
  {
   "cell_type": "code",
   "execution_count": 13,
   "metadata": {},
   "outputs": [
    {
     "data": {
      "text/html": [
       "<div>\n",
       "<style scoped>\n",
       "    .dataframe tbody tr th:only-of-type {\n",
       "        vertical-align: middle;\n",
       "    }\n",
       "\n",
       "    .dataframe tbody tr th {\n",
       "        vertical-align: top;\n",
       "    }\n",
       "\n",
       "    .dataframe thead th {\n",
       "        text-align: right;\n",
       "    }\n",
       "</style>\n",
       "<table border=\"1\" class=\"dataframe\">\n",
       "  <thead>\n",
       "    <tr style=\"text-align: right;\">\n",
       "      <th></th>\n",
       "      <th>ID</th>\n",
       "      <th>Gender</th>\n",
       "      <th>Age</th>\n",
       "      <th>Region_Code</th>\n",
       "      <th>Occupation</th>\n",
       "      <th>Channel_Code</th>\n",
       "      <th>Vintage</th>\n",
       "      <th>Credit_Product</th>\n",
       "      <th>Avg_Account_Balance</th>\n",
       "      <th>Is_Active</th>\n",
       "      <th>Is_Lead</th>\n",
       "      <th>source</th>\n",
       "    </tr>\n",
       "  </thead>\n",
       "  <tbody>\n",
       "    <tr>\n",
       "      <th>0</th>\n",
       "      <td>NNVBBKZB</td>\n",
       "      <td>Female</td>\n",
       "      <td>73</td>\n",
       "      <td>RG268</td>\n",
       "      <td>Other</td>\n",
       "      <td>X3</td>\n",
       "      <td>43</td>\n",
       "      <td>No</td>\n",
       "      <td>1045696</td>\n",
       "      <td>0.0</td>\n",
       "      <td>0.0</td>\n",
       "      <td>train</td>\n",
       "    </tr>\n",
       "    <tr>\n",
       "      <th>1</th>\n",
       "      <td>IDD62UNG</td>\n",
       "      <td>Female</td>\n",
       "      <td>30</td>\n",
       "      <td>RG277</td>\n",
       "      <td>Salaried</td>\n",
       "      <td>X1</td>\n",
       "      <td>32</td>\n",
       "      <td>No</td>\n",
       "      <td>581988</td>\n",
       "      <td>0.0</td>\n",
       "      <td>0.0</td>\n",
       "      <td>train</td>\n",
       "    </tr>\n",
       "    <tr>\n",
       "      <th>2</th>\n",
       "      <td>HD3DSEMC</td>\n",
       "      <td>Female</td>\n",
       "      <td>56</td>\n",
       "      <td>RG268</td>\n",
       "      <td>Self_Employed</td>\n",
       "      <td>X3</td>\n",
       "      <td>26</td>\n",
       "      <td>No</td>\n",
       "      <td>1484315</td>\n",
       "      <td>1.0</td>\n",
       "      <td>0.0</td>\n",
       "      <td>train</td>\n",
       "    </tr>\n",
       "    <tr>\n",
       "      <th>3</th>\n",
       "      <td>BF3NC7KV</td>\n",
       "      <td>Male</td>\n",
       "      <td>34</td>\n",
       "      <td>RG270</td>\n",
       "      <td>Salaried</td>\n",
       "      <td>X1</td>\n",
       "      <td>19</td>\n",
       "      <td>No</td>\n",
       "      <td>470454</td>\n",
       "      <td>0.0</td>\n",
       "      <td>0.0</td>\n",
       "      <td>train</td>\n",
       "    </tr>\n",
       "    <tr>\n",
       "      <th>4</th>\n",
       "      <td>TEASRWXV</td>\n",
       "      <td>Female</td>\n",
       "      <td>30</td>\n",
       "      <td>RG282</td>\n",
       "      <td>Salaried</td>\n",
       "      <td>X1</td>\n",
       "      <td>33</td>\n",
       "      <td>No</td>\n",
       "      <td>886787</td>\n",
       "      <td>0.0</td>\n",
       "      <td>0.0</td>\n",
       "      <td>train</td>\n",
       "    </tr>\n",
       "  </tbody>\n",
       "</table>\n",
       "</div>"
      ],
      "text/plain": [
       "         ID  Gender  Age Region_Code     Occupation Channel_Code  Vintage  \\\n",
       "0  NNVBBKZB  Female   73       RG268          Other           X3       43   \n",
       "1  IDD62UNG  Female   30       RG277       Salaried           X1       32   \n",
       "2  HD3DSEMC  Female   56       RG268  Self_Employed           X3       26   \n",
       "3  BF3NC7KV    Male   34       RG270       Salaried           X1       19   \n",
       "4  TEASRWXV  Female   30       RG282       Salaried           X1       33   \n",
       "\n",
       "  Credit_Product  Avg_Account_Balance  Is_Active  Is_Lead source  \n",
       "0             No              1045696        0.0      0.0  train  \n",
       "1             No               581988        0.0      0.0  train  \n",
       "2             No              1484315        1.0      0.0  train  \n",
       "3             No               470454        0.0      0.0  train  \n",
       "4             No               886787        0.0      0.0  train  "
      ]
     },
     "execution_count": 13,
     "metadata": {},
     "output_type": "execute_result"
    }
   ],
   "source": [
    "df.head()"
   ]
  },
  {
   "cell_type": "code",
   "execution_count": 14,
   "metadata": {},
   "outputs": [
    {
     "name": "stdout",
     "output_type": "stream",
     "text": [
      "<class 'pandas.core.frame.DataFrame'>\n",
      "RangeIndex: 351037 entries, 0 to 351036\n",
      "Data columns (total 12 columns):\n",
      " #   Column               Non-Null Count   Dtype  \n",
      "---  ------               --------------   -----  \n",
      " 0   ID                   351037 non-null  object \n",
      " 1   Gender               351037 non-null  object \n",
      " 2   Age                  351037 non-null  int64  \n",
      " 3   Region_Code          351037 non-null  object \n",
      " 4   Occupation           351037 non-null  object \n",
      " 5   Channel_Code         351037 non-null  object \n",
      " 6   Vintage              351037 non-null  int64  \n",
      " 7   Credit_Product       351037 non-null  object \n",
      " 8   Avg_Account_Balance  351037 non-null  int64  \n",
      " 9   Is_Active            351037 non-null  float64\n",
      " 10  Is_Lead              245725 non-null  float64\n",
      " 11  source               351037 non-null  object \n",
      "dtypes: float64(2), int64(3), object(7)\n",
      "memory usage: 32.1+ MB\n"
     ]
    }
   ],
   "source": [
    "df.info()"
   ]
  },
  {
   "cell_type": "markdown",
   "metadata": {},
   "source": [
    "## 2) DATA VISUALIZATION"
   ]
  },
  {
   "cell_type": "code",
   "execution_count": 15,
   "metadata": {},
   "outputs": [
    {
     "data": {
      "image/png": "[encoded data removed]",
      "text/plain": [
       "<Figure size 576x396 with 1 Axes>"
      ]
     },
     "metadata": {},
     "output_type": "display_data"
    }
   ],
   "source": [
    "sns.distplot(df[\"Age\"]);"
   ]
  },
  {
   "cell_type": "markdown",
   "metadata": {},
   "source": [
    "###### Observation: Age is slightly skewed towards left"
   ]
  },
  {
   "cell_type": "code",
   "execution_count": 16,
   "metadata": {},
   "outputs": [
    {
     "data": {
      "image/png": "[encoded data removed]",
      "text/plain": [
       "<Figure size 576x396 with 1 Axes>"
      ]
     },
     "metadata": {},
     "output_type": "display_data"
    }
   ],
   "source": [
    "sns.distplot(df[\"Avg_Account_Balance\"]);"
   ]
  },
  {
   "cell_type": "markdown",
   "metadata": {},
   "source": [
    "###### Observations: Low Avg Account Balance is Skewed towards Left"
   ]
  },
  {
   "cell_type": "code",
   "execution_count": 17,
   "metadata": {},
   "outputs": [
    {
     "data": {
      "image/png": "[encoded data removed]",
      "text/plain": [
       "<Figure size 576x288 with 1 Axes>"
      ]
     },
     "metadata": {},
     "output_type": "display_data"
    }
   ],
   "source": [
    "plt.figure(figsize = (8,4))\n",
    "sns.countplot(df[\"Gender\"], palette = \"Accent\")\n",
    "plt.show()"
   ]
  },
  {
   "cell_type": "code",
   "execution_count": 18,
   "metadata": {},
   "outputs": [
    {
     "data": {
      "image/png": "[encoded data removed]",
      "text/plain": [
       "<Figure size 576x288 with 1 Axes>"
      ]
     },
     "metadata": {},
     "output_type": "display_data"
    },
    {
     "name": "stdout",
     "output_type": "stream",
     "text": [
      "0.0    187437\n",
      "1.0     58288\n",
      "Name: Is_Lead, dtype: int64\n"
     ]
    }
   ],
   "source": [
    "target = \"Is_Lead\"\n",
    "plt.figure(figsize = (8,4))\n",
    "sns.countplot(df[target], palette = \"hls\")\n",
    "plt.show()\n",
    "print(df[target].value_counts())"
   ]
  },
  {
   "cell_type": "markdown",
   "metadata": {},
   "source": [
    "###### Observation: The data is Highly Imbalanced Need to be balance before Algorithm"
   ]
  },
  {
   "cell_type": "code",
   "execution_count": 19,
   "metadata": {
    "scrolled": true
   },
   "outputs": [
    {
     "data": {
      "image/png": "[encoded data removed]",
      "text/plain": [
       "<Figure size 576x288 with 1 Axes>"
      ]
     },
     "metadata": {},
     "output_type": "display_data"
    }
   ],
   "source": [
    "plt.figure(figsize = (8,4))\n",
    "sns.countplot(x = \"Occupation\", hue = \"Is_Lead\", data = df, palette = \"magma\")\n",
    "plt.show()"
   ]
  },
  {
   "cell_type": "code",
   "execution_count": 20,
   "metadata": {},
   "outputs": [
    {
     "data": {
      "text/plain": [
       "<Figure size 576x288 with 0 Axes>"
      ]
     },
     "metadata": {},
     "output_type": "display_data"
    },
    {
     "data": {
      "image/png": "[encoded data removed]",
      "text/plain": [
       "<Figure size 416.625x360 with 1 Axes>"
      ]
     },
     "metadata": {},
     "output_type": "display_data"
    }
   ],
   "source": [
    "plt.figure(figsize = (8,4))\n",
    "sns.catplot(y = \"Age\",x = \"Occupation\", hue = \"Is_Active\", data = df, kind = 'bar' ,palette = \"Oranges\")\n",
    "plt.show()"
   ]
  },
  {
   "cell_type": "code",
   "execution_count": 21,
   "metadata": {},
   "outputs": [
    {
     "data": {
      "text/html": [
       "<div>\n",
       "<style scoped>\n",
       "    .dataframe tbody tr th:only-of-type {\n",
       "        vertical-align: middle;\n",
       "    }\n",
       "\n",
       "    .dataframe tbody tr th {\n",
       "        vertical-align: top;\n",
       "    }\n",
       "\n",
       "    .dataframe thead th {\n",
       "        text-align: right;\n",
       "    }\n",
       "</style>\n",
       "<table border=\"1\" class=\"dataframe\">\n",
       "  <thead>\n",
       "    <tr style=\"text-align: right;\">\n",
       "      <th></th>\n",
       "      <th>ID</th>\n",
       "      <th>Gender</th>\n",
       "      <th>Age</th>\n",
       "      <th>Region_Code</th>\n",
       "      <th>Occupation</th>\n",
       "      <th>Channel_Code</th>\n",
       "      <th>Vintage</th>\n",
       "      <th>Credit_Product</th>\n",
       "      <th>Avg_Account_Balance</th>\n",
       "      <th>Is_Active</th>\n",
       "      <th>Is_Lead</th>\n",
       "      <th>source</th>\n",
       "    </tr>\n",
       "  </thead>\n",
       "  <tbody>\n",
       "    <tr>\n",
       "      <th>0</th>\n",
       "      <td>NNVBBKZB</td>\n",
       "      <td>0</td>\n",
       "      <td>73</td>\n",
       "      <td>18</td>\n",
       "      <td>1</td>\n",
       "      <td>2</td>\n",
       "      <td>43</td>\n",
       "      <td>1</td>\n",
       "      <td>1045696</td>\n",
       "      <td>0.0</td>\n",
       "      <td>0.0</td>\n",
       "      <td>train</td>\n",
       "    </tr>\n",
       "    <tr>\n",
       "      <th>1</th>\n",
       "      <td>IDD62UNG</td>\n",
       "      <td>0</td>\n",
       "      <td>30</td>\n",
       "      <td>27</td>\n",
       "      <td>2</td>\n",
       "      <td>0</td>\n",
       "      <td>32</td>\n",
       "      <td>1</td>\n",
       "      <td>581988</td>\n",
       "      <td>0.0</td>\n",
       "      <td>0.0</td>\n",
       "      <td>train</td>\n",
       "    </tr>\n",
       "    <tr>\n",
       "      <th>2</th>\n",
       "      <td>HD3DSEMC</td>\n",
       "      <td>0</td>\n",
       "      <td>56</td>\n",
       "      <td>18</td>\n",
       "      <td>3</td>\n",
       "      <td>2</td>\n",
       "      <td>26</td>\n",
       "      <td>1</td>\n",
       "      <td>1484315</td>\n",
       "      <td>1.0</td>\n",
       "      <td>0.0</td>\n",
       "      <td>train</td>\n",
       "    </tr>\n",
       "    <tr>\n",
       "      <th>3</th>\n",
       "      <td>BF3NC7KV</td>\n",
       "      <td>1</td>\n",
       "      <td>34</td>\n",
       "      <td>20</td>\n",
       "      <td>2</td>\n",
       "      <td>0</td>\n",
       "      <td>19</td>\n",
       "      <td>1</td>\n",
       "      <td>470454</td>\n",
       "      <td>0.0</td>\n",
       "      <td>0.0</td>\n",
       "      <td>train</td>\n",
       "    </tr>\n",
       "    <tr>\n",
       "      <th>4</th>\n",
       "      <td>TEASRWXV</td>\n",
       "      <td>0</td>\n",
       "      <td>30</td>\n",
       "      <td>32</td>\n",
       "      <td>2</td>\n",
       "      <td>0</td>\n",
       "      <td>33</td>\n",
       "      <td>1</td>\n",
       "      <td>886787</td>\n",
       "      <td>0.0</td>\n",
       "      <td>0.0</td>\n",
       "      <td>train</td>\n",
       "    </tr>\n",
       "  </tbody>\n",
       "</table>\n",
       "</div>"
      ],
      "text/plain": [
       "         ID  Gender  Age  Region_Code  Occupation  Channel_Code  Vintage  \\\n",
       "0  NNVBBKZB       0   73           18           1             2       43   \n",
       "1  IDD62UNG       0   30           27           2             0       32   \n",
       "2  HD3DSEMC       0   56           18           3             2       26   \n",
       "3  BF3NC7KV       1   34           20           2             0       19   \n",
       "4  TEASRWXV       0   30           32           2             0       33   \n",
       "\n",
       "   Credit_Product  Avg_Account_Balance  Is_Active  Is_Lead source  \n",
       "0               1              1045696        0.0      0.0  train  \n",
       "1               1               581988        0.0      0.0  train  \n",
       "2               1              1484315        1.0      0.0  train  \n",
       "3               1               470454        0.0      0.0  train  \n",
       "4               1               886787        0.0      0.0  train  "
      ]
     },
     "execution_count": 21,
     "metadata": {},
     "output_type": "execute_result"
    }
   ],
   "source": [
    "cat_col = ['Gender', 'Region_Code', 'Occupation', 'Channel_Code', 'Credit_Product']\n",
    "\n",
    "le = LabelEncoder()\n",
    "for col in cat_col:\n",
    "    df[col] = le.fit_transform(df[col])\n",
    "    \n",
    "df_2 = df\n",
    "df_2.head()"
   ]
  },
  {
   "cell_type": "code",
   "execution_count": 22,
   "metadata": {},
   "outputs": [],
   "source": [
    "df_train = df_2.loc[df_2[\"source\"]==\"train\"]\n",
    "df_test = df_2.loc[df_2[\"source\"]==\"test\"]\n",
    "df_1 = df_train"
   ]
  },
  {
   "cell_type": "code",
   "execution_count": 23,
   "metadata": {},
   "outputs": [
    {
     "data": {
      "text/html": [
       "<div>\n",
       "<style scoped>\n",
       "    .dataframe tbody tr th:only-of-type {\n",
       "        vertical-align: middle;\n",
       "    }\n",
       "\n",
       "    .dataframe tbody tr th {\n",
       "        vertical-align: top;\n",
       "    }\n",
       "\n",
       "    .dataframe thead th {\n",
       "        text-align: right;\n",
       "    }\n",
       "</style>\n",
       "<table border=\"1\" class=\"dataframe\">\n",
       "  <thead>\n",
       "    <tr style=\"text-align: right;\">\n",
       "      <th></th>\n",
       "      <th>Gender</th>\n",
       "      <th>Age</th>\n",
       "      <th>Region_Code</th>\n",
       "      <th>Occupation</th>\n",
       "      <th>Channel_Code</th>\n",
       "      <th>Vintage</th>\n",
       "      <th>Credit_Product</th>\n",
       "      <th>Avg_Account_Balance</th>\n",
       "      <th>Is_Active</th>\n",
       "      <th>Is_Lead</th>\n",
       "    </tr>\n",
       "  </thead>\n",
       "  <tbody>\n",
       "    <tr>\n",
       "      <th>0</th>\n",
       "      <td>0</td>\n",
       "      <td>73</td>\n",
       "      <td>18</td>\n",
       "      <td>1</td>\n",
       "      <td>2</td>\n",
       "      <td>43</td>\n",
       "      <td>1</td>\n",
       "      <td>1045696</td>\n",
       "      <td>0.0</td>\n",
       "      <td>0.0</td>\n",
       "    </tr>\n",
       "    <tr>\n",
       "      <th>1</th>\n",
       "      <td>0</td>\n",
       "      <td>30</td>\n",
       "      <td>27</td>\n",
       "      <td>2</td>\n",
       "      <td>0</td>\n",
       "      <td>32</td>\n",
       "      <td>1</td>\n",
       "      <td>581988</td>\n",
       "      <td>0.0</td>\n",
       "      <td>0.0</td>\n",
       "    </tr>\n",
       "    <tr>\n",
       "      <th>2</th>\n",
       "      <td>0</td>\n",
       "      <td>56</td>\n",
       "      <td>18</td>\n",
       "      <td>3</td>\n",
       "      <td>2</td>\n",
       "      <td>26</td>\n",
       "      <td>1</td>\n",
       "      <td>1484315</td>\n",
       "      <td>1.0</td>\n",
       "      <td>0.0</td>\n",
       "    </tr>\n",
       "    <tr>\n",
       "      <th>3</th>\n",
       "      <td>1</td>\n",
       "      <td>34</td>\n",
       "      <td>20</td>\n",
       "      <td>2</td>\n",
       "      <td>0</td>\n",
       "      <td>19</td>\n",
       "      <td>1</td>\n",
       "      <td>470454</td>\n",
       "      <td>0.0</td>\n",
       "      <td>0.0</td>\n",
       "    </tr>\n",
       "    <tr>\n",
       "      <th>4</th>\n",
       "      <td>0</td>\n",
       "      <td>30</td>\n",
       "      <td>32</td>\n",
       "      <td>2</td>\n",
       "      <td>0</td>\n",
       "      <td>33</td>\n",
       "      <td>1</td>\n",
       "      <td>886787</td>\n",
       "      <td>0.0</td>\n",
       "      <td>0.0</td>\n",
       "    </tr>\n",
       "  </tbody>\n",
       "</table>\n",
       "</div>"
      ],
      "text/plain": [
       "   Gender  Age  Region_Code  Occupation  Channel_Code  Vintage  \\\n",
       "0       0   73           18           1             2       43   \n",
       "1       0   30           27           2             0       32   \n",
       "2       0   56           18           3             2       26   \n",
       "3       1   34           20           2             0       19   \n",
       "4       0   30           32           2             0       33   \n",
       "\n",
       "   Credit_Product  Avg_Account_Balance  Is_Active  Is_Lead  \n",
       "0               1              1045696        0.0      0.0  \n",
       "1               1               581988        0.0      0.0  \n",
       "2               1              1484315        1.0      0.0  \n",
       "3               1               470454        0.0      0.0  \n",
       "4               1               886787        0.0      0.0  "
      ]
     },
     "execution_count": 23,
     "metadata": {},
     "output_type": "execute_result"
    }
   ],
   "source": [
    "df_1.drop(columns = [\"ID\",\"source\"], inplace = True)\n",
    "df_1.head()"
   ]
  },
  {
   "cell_type": "markdown",
   "metadata": {},
   "source": [
    "## 3) DATA PREPARATION"
   ]
  },
  {
   "cell_type": "code",
   "execution_count": 24,
   "metadata": {},
   "outputs": [
    {
     "name": "stdout",
     "output_type": "stream",
     "text": [
      "The Majority class value are 187437\n",
      "The minority class value are 58288\n",
      "The ratio of both classes are 3.215704776283283\n"
     ]
    }
   ],
   "source": [
    "df_majority = df_1[df_1[\"Is_Lead\"] == 0]\n",
    "df_minority = df_1[df_1[\"Is_Lead\"] == 1]\n",
    "\n",
    "print( \"The Majority class value are\", len(df_majority))\n",
    "print(\"The minority class value are\", len(df_minority))\n",
    "print(\"The ratio of both classes are\", len(df_majority)/len(df_minority))"
   ]
  },
  {
   "cell_type": "code",
   "execution_count": 25,
   "metadata": {},
   "outputs": [
    {
     "data": {
      "text/plain": [
       "0.0    58288\n",
       "1.0    58288\n",
       "Name: Is_Lead, dtype: int64"
      ]
     },
     "execution_count": 25,
     "metadata": {},
     "output_type": "execute_result"
    }
   ],
   "source": [
    "df_majority_undersampled = resample(df_majority, replace = True, n_samples = len(df_minority), random_state = 0)\n",
    "df_undersampled = pd.concat([df_minority, df_majority_undersampled])\n",
    "\n",
    "df_undersampled[\"Is_Lead\"].value_counts()"
   ]
  },
  {
   "cell_type": "code",
   "execution_count": 26,
   "metadata": {},
   "outputs": [
    {
     "name": "stdout",
     "output_type": "stream",
     "text": [
      " The undersamples class values count is: 116576\n",
      " The ratio of both classes are 1.0\n"
     ]
    }
   ],
   "source": [
    "df_1 = df_undersampled\n",
    "print(\" The undersamples class values count is:\", len(df_undersampled))\n",
    "print(\" The ratio of both classes are\", len(df_undersampled[df_undersampled[\"Is_Lead\"]==0])/len(df_undersampled[df_undersampled[\"Is_Lead\"]==1]))"
   ]
  },
  {
   "cell_type": "code",
   "execution_count": 27,
   "metadata": {},
   "outputs": [],
   "source": [
    "xc = df_1.drop(columns = ['Is_Lead'])\n",
    "yc = df_1[['Is_Lead']]"
   ]
  },
  {
   "cell_type": "code",
   "execution_count": 28,
   "metadata": {},
   "outputs": [
    {
     "data": {
      "text/html": [
       "<div>\n",
       "<style scoped>\n",
       "    .dataframe tbody tr th:only-of-type {\n",
       "        vertical-align: middle;\n",
       "    }\n",
       "\n",
       "    .dataframe tbody tr th {\n",
       "        vertical-align: top;\n",
       "    }\n",
       "\n",
       "    .dataframe thead th {\n",
       "        text-align: right;\n",
       "    }\n",
       "</style>\n",
       "<table border=\"1\" class=\"dataframe\">\n",
       "  <thead>\n",
       "    <tr style=\"text-align: right;\">\n",
       "      <th></th>\n",
       "      <th>Gender</th>\n",
       "      <th>Age</th>\n",
       "      <th>Region_Code</th>\n",
       "      <th>Occupation</th>\n",
       "      <th>Channel_Code</th>\n",
       "      <th>Vintage</th>\n",
       "      <th>Credit_Product</th>\n",
       "      <th>Avg_Account_Balance</th>\n",
       "      <th>Is_Active</th>\n",
       "      <th>Is_Lead</th>\n",
       "    </tr>\n",
       "  </thead>\n",
       "  <tbody>\n",
       "    <tr>\n",
       "      <th>6</th>\n",
       "      <td>1</td>\n",
       "      <td>62</td>\n",
       "      <td>32</td>\n",
       "      <td>1</td>\n",
       "      <td>2</td>\n",
       "      <td>20</td>\n",
       "      <td>0</td>\n",
       "      <td>1056750</td>\n",
       "      <td>1.0</td>\n",
       "      <td>1.0</td>\n",
       "    </tr>\n",
       "    <tr>\n",
       "      <th>15</th>\n",
       "      <td>1</td>\n",
       "      <td>33</td>\n",
       "      <td>18</td>\n",
       "      <td>3</td>\n",
       "      <td>1</td>\n",
       "      <td>69</td>\n",
       "      <td>0</td>\n",
       "      <td>517063</td>\n",
       "      <td>1.0</td>\n",
       "      <td>1.0</td>\n",
       "    </tr>\n",
       "    <tr>\n",
       "      <th>16</th>\n",
       "      <td>0</td>\n",
       "      <td>46</td>\n",
       "      <td>18</td>\n",
       "      <td>1</td>\n",
       "      <td>2</td>\n",
       "      <td>97</td>\n",
       "      <td>2</td>\n",
       "      <td>2282502</td>\n",
       "      <td>0.0</td>\n",
       "      <td>1.0</td>\n",
       "    </tr>\n",
       "    <tr>\n",
       "      <th>17</th>\n",
       "      <td>0</td>\n",
       "      <td>59</td>\n",
       "      <td>33</td>\n",
       "      <td>1</td>\n",
       "      <td>2</td>\n",
       "      <td>15</td>\n",
       "      <td>2</td>\n",
       "      <td>2384692</td>\n",
       "      <td>0.0</td>\n",
       "      <td>1.0</td>\n",
       "    </tr>\n",
       "    <tr>\n",
       "      <th>20</th>\n",
       "      <td>1</td>\n",
       "      <td>44</td>\n",
       "      <td>19</td>\n",
       "      <td>3</td>\n",
       "      <td>1</td>\n",
       "      <td>19</td>\n",
       "      <td>2</td>\n",
       "      <td>1001650</td>\n",
       "      <td>0.0</td>\n",
       "      <td>1.0</td>\n",
       "    </tr>\n",
       "  </tbody>\n",
       "</table>\n",
       "</div>"
      ],
      "text/plain": [
       "    Gender  Age  Region_Code  Occupation  Channel_Code  Vintage  \\\n",
       "6        1   62           32           1             2       20   \n",
       "15       1   33           18           3             1       69   \n",
       "16       0   46           18           1             2       97   \n",
       "17       0   59           33           1             2       15   \n",
       "20       1   44           19           3             1       19   \n",
       "\n",
       "    Credit_Product  Avg_Account_Balance  Is_Active  Is_Lead  \n",
       "6                0              1056750        1.0      1.0  \n",
       "15               0               517063        1.0      1.0  \n",
       "16               2              2282502        0.0      1.0  \n",
       "17               2              2384692        0.0      1.0  \n",
       "20               2              1001650        0.0      1.0  "
      ]
     },
     "execution_count": 28,
     "metadata": {},
     "output_type": "execute_result"
    }
   ],
   "source": [
    "df_1.head()"
   ]
  },
  {
   "cell_type": "code",
   "execution_count": 29,
   "metadata": {},
   "outputs": [],
   "source": [
    "sc = StandardScaler()\n",
    "df_xc = pd.DataFrame(sc.fit_transform(xc), columns = xc.columns)"
   ]
  },
  {
   "cell_type": "markdown",
   "metadata": {},
   "source": [
    "## 4) DATA MODELLING"
   ]
  },
  {
   "cell_type": "code",
   "execution_count": 30,
   "metadata": {},
   "outputs": [],
   "source": [
    "def max_accuracy_scr(names,model_c,df_xc,yc):\n",
    "    accuracy_scr_max = 0\n",
    "    roc_scr_max = 0\n",
    "    train_xc,test_xc,train_yc,test_yc = train_test_split(df_xc,yc,random_state = 42, test_size = 0.2, stratify = yc)\n",
    "    model_c.fit(train_xc,train_yc)\n",
    "    pred = model_c.predict_proba(test_xc)[:, 1]\n",
    "    roc_score = roc_auc_score(test_yc, pred)\n",
    "    accuracy_scr = accuracy_score(test_yc, model_c.predict(test_xc))\n",
    "    if roc_score > roc_scr_max:\n",
    "        roc_scr_max = roc_score\n",
    "        final_model = model_c\n",
    "        mean_acc = cross_val_score(final_model,df_xc, yc, cv=5, scoring = \"accuracy\").mean()\n",
    "        std_dev = cross_val_score(final_model,df_xc, yc, cv=5, scoring = \"accuracy\").std()\n",
    "        cross_val = cross_val_score(final_model,df_xc, yc, cv=5, scoring = \"accuracy\")\n",
    "        print(\"*\"*50)\n",
    "        print(\"Result for model : \", names, '\\n',\n",
    "              \"max roc score correspond to random state \", roc_scr_max, '\\n',\n",
    "              \"Mean accuracy score is : \", mean_acc, '\\n',\n",
    "              \"Std deviation score is : \", std_dev, '\\n',\n",
    "              \"Cross validation score is : \", cross_val)\n",
    "        print(f\"roc_auc_score: {roc_score}\")\n",
    "        print(\"*\"*50)"
   ]
  },
  {
   "cell_type": "code",
   "execution_count": 31,
   "metadata": {},
   "outputs": [
    {
     "name": "stdout",
     "output_type": "stream",
     "text": [
      "**************************************************\n",
      "Result for model :  Logistic Regression \n",
      " max roc score correspond to random state  0.727315712597147 \n",
      " Mean accuracy score is :  0.6696918411779096 \n",
      " Std deviation score is :  0.0030322593046897828 \n",
      " Cross validation score is :  [0.67361469 0.66566588 0.66703839 0.67239974 0.66974051]\n",
      "roc_auc_score: 0.727315712597147\n",
      "**************************************************\n",
      "**************************************************\n",
      "Result for model :  Random Forest \n",
      " max roc score correspond to random state  0.8799024764841853 \n",
      " Mean accuracy score is :  0.8113677083313788 \n",
      " Std deviation score is :  0.002206442862762215 \n",
      " Cross validation score is :  [0.80905816 0.81059404 0.81140896 0.81230967 0.8131246 ]\n",
      "roc_auc_score: 0.8799024764841853\n",
      "**************************************************\n",
      "**************************************************\n",
      "Result for model :  Decision Tree \n",
      " max roc score correspond to random state  0.7403928632698575 \n",
      " Mean accuracy score is :  0.7428201354589796 \n",
      " Std deviation score is :  0.002076221798660055 \n",
      " Cross validation score is :  [0.74433865 0.74201158 0.74141111 0.73853742 0.74677246]\n",
      "roc_auc_score: 0.7403928632698575\n",
      "**************************************************\n",
      "**************************************************\n",
      "Result for model :  GausianNB \n",
      " max roc score correspond to random state  0.7956111563031266 \n",
      " Mean accuracy score is :  0.7158677336619202 \n",
      " Std deviation score is :  0.0015884106712636206 \n",
      " Cross validation score is :  [0.71894836 0.71550504 0.71546215 0.71443277 0.71499035]\n",
      "roc_auc_score: 0.7956111563031266\n",
      "**************************************************\n"
     ]
    }
   ],
   "source": [
    "accuracy_scr_max = []\n",
    "models = []\n",
    "std_dev = []\n",
    "roc_auc = []\n",
    "mean_acc = []\n",
    "cross_val = []\n",
    "models.append(('Logistic Regression', LogisticRegression()))\n",
    "models.append(('Random Forest', RandomForestClassifier()))\n",
    "models.append(('Decision Tree', DecisionTreeClassifier()))\n",
    "models.append(('GausianNB', GaussianNB()))\n",
    "\n",
    "for names, model_c in models:\n",
    "    max_accuracy_scr(names,model_c,df_xc,yc)"
   ]
  },
  {
   "cell_type": "markdown",
   "metadata": {},
   "source": [
    "###### Observation: Random Forest is performing better"
   ]
  },
  {
   "cell_type": "markdown",
   "metadata": {},
   "source": [
    "## RANDOM FOREST CLASSIFIER"
   ]
  },
  {
   "cell_type": "code",
   "execution_count": 32,
   "metadata": {},
   "outputs": [
    {
     "name": "stdout",
     "output_type": "stream",
     "text": [
      "Best Parameter :  {'n_estimators': 100} \n",
      "Best Estimator:  RandomForestClassifier() \n",
      "Best Score:  0.8809146129963288\n"
     ]
    }
   ],
   "source": [
    "parameters = {\"n_estimators\": [1,10,100]}\n",
    "rf_clf = RandomForestClassifier()\n",
    "clf =GridSearchCV(rf_clf,parameters,cv =5, scoring = \"roc_auc\")\n",
    "clf.fit(df_xc, yc)\n",
    "print(\"Best Parameter : \",clf.best_params_, \"\\nBest Estimator: \",clf.best_estimator_, \"\\nBest Score: \",clf.best_score_)"
   ]
  },
  {
   "cell_type": "code",
   "execution_count": 33,
   "metadata": {},
   "outputs": [
    {
     "name": "stdout",
     "output_type": "stream",
     "text": [
      "**************************************************\n",
      "Result for model :  RandomForest Classifier \n",
      " max roc score correspond to random state  0.879415808805665 \n",
      " Mean accuracy score is :  0.8115392510996895 \n",
      " Std deviation score is :  0.0008997445291505284 \n",
      " Cross validation score is :  [0.81180305 0.81136607 0.81106584 0.81037958 0.81308171]\n",
      "roc_auc_score: 0.879415808805665\n",
      "**************************************************\n"
     ]
    }
   ],
   "source": [
    "rf_clf = RandomForestClassifier(n_estimators= 100, random_state =42)\n",
    "max_accuracy_scr(\"RandomForest Classifier\", rf_clf,df_xc,yc)"
   ]
  },
  {
   "cell_type": "code",
   "execution_count": 34,
   "metadata": {},
   "outputs": [],
   "source": [
    "xc_train,xc_test,yc_train,yc_test = train_test_split(df_xc,yc,random_state = 80, test_size = 0.2, stratify = yc)\n",
    "rf_clf.fit(xc_train,yc_train)\n",
    "yc_predict = rf_clf.predict(xc_test)"
   ]
  },
  {
   "cell_type": "code",
   "execution_count": 35,
   "metadata": {},
   "outputs": [
    {
     "name": "stdout",
     "output_type": "stream",
     "text": [
      " ROC_AUC score is  0.8804566893762799\n",
      " Accuracy score is  0.8127466117687425\n",
      " Precison score is  0.8397949673811743\n",
      " Recall score is  0.7729456167438669\n",
      " F1 score is  0.8049848132928354\n",
      " Classification report \n",
      "               precision    recall  f1-score   support\n",
      "\n",
      "         0.0       0.79      0.85      0.82     11658\n",
      "         1.0       0.84      0.77      0.80     11658\n",
      "\n",
      "    accuracy                           0.81     23316\n",
      "   macro avg       0.81      0.81      0.81     23316\n",
      "weighted avg       0.81      0.81      0.81     23316\n",
      "\n"
     ]
    },
    {
     "data": {
      "text/plain": [
       "<AxesSubplot:>"
      ]
     },
     "execution_count": 35,
     "metadata": {},
     "output_type": "execute_result"
    },
    {
     "data": {
      "image/png": "[encoded data removed]",
      "text/plain": [
       "<Figure size 576x396 with 2 Axes>"
      ]
     },
     "metadata": {},
     "output_type": "display_data"
    }
   ],
   "source": [
    "pred_pb = rf_clf.predict_proba(xc_test)[:, 1]\n",
    "Fpr, Tpr, thresholds = roc_curve(yc_test, pred_pb, pos_label= True)\n",
    "auc = roc_auc_score(yc_test, pred_pb)\n",
    "\n",
    "print(\" ROC_AUC score is \", auc)\n",
    "print(\" Accuracy score is \", accuracy_score(yc_test, yc_predict))\n",
    "print(\" Precison score is \", precision_score(yc_test, yc_predict))\n",
    "print(\" Recall score is \", recall_score(yc_test, yc_predict))\n",
    "print(\" F1 score is \", f1_score(yc_test, yc_predict))\n",
    "print(\" Classification report \\n\", classification_report(yc_test, yc_predict))\n",
    "\n",
    "cnf = confusion_matrix(yc_test, yc_predict)\n",
    "sns.heatmap(cnf, annot = True, cmap = \"magma\")"
   ]
  },
  {
   "cell_type": "code",
   "execution_count": 36,
   "metadata": {},
   "outputs": [
    {
     "data": {
      "image/png": "[encoded data removed]",
      "text/plain": [
       "<Figure size 576x396 with 1 Axes>"
      ]
     },
     "metadata": {},
     "output_type": "display_data"
    }
   ],
   "source": [
    "plt.plot([0,1],[1,0],'g--')\n",
    "plt.plot(Fpr, Tpr)\n",
    "plt.xlabel('False Positive Rate')\n",
    "plt.ylabel(' True Positive Rate')\n",
    "plt.title('Random Forest Classifier')\n",
    "plt.show()"
   ]
  },
  {
   "cell_type": "markdown",
   "metadata": {},
   "source": [
    "## XgBOOST CLASSIFIER"
   ]
  },
  {
   "cell_type": "code",
   "execution_count": 37,
   "metadata": {},
   "outputs": [
    {
     "name": "stdout",
     "output_type": "stream",
     "text": [
      "[11:17:05] WARNING: ..\\src\\learner.cc:573: \n",
      "Parameters: { \"class_weight\" } might not be used.\n",
      "\n",
      "  This may not be accurate due to some parameters are only used in language bindings but\n",
      "  passed down to XGBoost core.  Or some parameters are not used but slip through this\n",
      "  verification. Please open an issue if you find above cases.\n",
      "\n",
      "\n",
      "[11:17:05] WARNING: ..\\src\\learner.cc:1095: Starting in XGBoost 1.3.0, the default evaluation metric used with the objective 'binary:logistic' was changed from 'error' to 'logloss'. Explicitly set eval_metric if you'd like to restore the old behavior.\n"
     ]
    }
   ],
   "source": [
    "clf2 = xg.XGBClassifier(class_weight = 'balanced').fit(xc_train, yc_train)\n",
    "class_weight.compute_class_weight('balanced', np.unique(yc_train), yc_train['Is_Lead'])\n",
    "xg_pred =clf2.predict(xc_test)"
   ]
  },
  {
   "cell_type": "code",
   "execution_count": 38,
   "metadata": {},
   "outputs": [
    {
     "name": "stdout",
     "output_type": "stream",
     "text": [
      " ROC_AUC score is  0.8804566893762799\n",
      " Accuracy score is  0.8033968090581575\n",
      " Precison score is  0.8246741325500275\n",
      " Recall score is  0.7706296105678504\n",
      " F1 score is  0.7967364313586378\n",
      " Classification report \n",
      "               precision    recall  f1-score   support\n",
      "\n",
      "         0.0       0.78      0.84      0.81     11658\n",
      "         1.0       0.82      0.77      0.80     11658\n",
      "\n",
      "    accuracy                           0.80     23316\n",
      "   macro avg       0.80      0.80      0.80     23316\n",
      "weighted avg       0.80      0.80      0.80     23316\n",
      "\n"
     ]
    },
    {
     "data": {
      "text/plain": [
       "<AxesSubplot:>"
      ]
     },
     "execution_count": 38,
     "metadata": {},
     "output_type": "execute_result"
    },
    {
     "data": {
      "image/png": "[encoded data removed]",
      "text/plain": [
       "<Figure size 576x396 with 2 Axes>"
      ]
     },
     "metadata": {},
     "output_type": "display_data"
    }
   ],
   "source": [
    "xg_pred_2 = clf2.predict_proba(xc_test)[:, 1]\n",
    "Fpr, Tpr, thresholds = roc_curve(yc_test, xg_pred_2, pos_label= True)\n",
    "auc = roc_auc_score(yc_test, pred_pb)\n",
    "\n",
    "print(\" ROC_AUC score is \", auc)\n",
    "print(\" Accuracy score is \", accuracy_score(yc_test, xg_pred))\n",
    "print(\" Precison score is \", precision_score(yc_test, xg_pred))\n",
    "print(\" Recall score is \", recall_score(yc_test, xg_pred))\n",
    "print(\" F1 score is \", f1_score(yc_test, xg_pred))\n",
    "print(\" Classification report \\n\", classification_report(yc_test, xg_pred))\n",
    "\n",
    "cnf = confusion_matrix(yc_test, xg_pred)\n",
    "sns.heatmap(cnf, annot = True, cmap = \"magma\")"
   ]
  },
  {
   "cell_type": "code",
   "execution_count": 39,
   "metadata": {},
   "outputs": [
    {
     "data": {
      "image/png": "[encoded data removed]",
      "text/plain": [
       "<Figure size 576x396 with 1 Axes>"
      ]
     },
     "metadata": {},
     "output_type": "display_data"
    }
   ],
   "source": [
    "plt.plot([0,1],[1,0],'g--')\n",
    "plt.plot(Fpr, Tpr)\n",
    "plt.xlabel('False Positive Rate')\n",
    "plt.ylabel(' True Positive Rate')\n",
    "plt.title('Random Forest Classifier')\n",
    "plt.show()"
   ]
  },
  {
   "cell_type": "markdown",
   "metadata": {},
   "source": [
    "## LGBM with STRATIFICATION FOLD"
   ]
  },
  {
   "cell_type": "code",
   "execution_count": 40,
   "metadata": {},
   "outputs": [],
   "source": [
    "def cross_val(xc, yc, model, params,folds = 10):\n",
    "    skf = StratifiedKFold(n_splits = folds, shuffle = True, random_state=42)\n",
    "    for fold, (train_idx, test_idx) in enumerate(skf.split(xc, yc)):\n",
    "        print(f\"Fold: {fold}\")\n",
    "        xc_train, yc_train = xc.iloc[train_idx], yc.iloc[train_idx]\n",
    "        xc_test, yc_test = xc.iloc[test_idx], yc.iloc[test_idx]\n",
    "        \n",
    "        model_c = model(**params)\n",
    "        model_c.fit(xc_train, yc_train, eval_set = [(xc_test, yc_test)], early_stopping_rounds=100, verbose = 300)\n",
    "        \n",
    "        pred_y = model_c.predict_proba(xc_test)[:, 1]\n",
    "        roc_score = roc_auc_score(yc_test, pred_y)\n",
    "        print(f\"roc_auc_score: {roc_score}\")\n",
    "        print(\"-\"*50)\n",
    "        \n",
    "    return model_c"
   ]
  },
  {
   "cell_type": "code",
   "execution_count": 41,
   "metadata": {},
   "outputs": [
    {
     "name": "stdout",
     "output_type": "stream",
     "text": [
      "Fold: 0\n",
      "Training until validation scores don't improve for 100 rounds\n",
      "[300]\tvalid_0's binary_logloss: 0.433821\n",
      "[600]\tvalid_0's binary_logloss: 0.433498\n",
      "Early stopping, best iteration is:\n",
      "[599]\tvalid_0's binary_logloss: 0.433487\n",
      "roc_auc_score: 0.8748638095718249\n",
      "--------------------------------------------------\n",
      "Fold: 1\n",
      "Training until validation scores don't improve for 100 rounds\n",
      "[300]\tvalid_0's binary_logloss: 0.434881\n",
      "[600]\tvalid_0's binary_logloss: 0.43445\n",
      "Early stopping, best iteration is:\n",
      "[569]\tvalid_0's binary_logloss: 0.43442\n",
      "roc_auc_score: 0.8755631159104413\n",
      "--------------------------------------------------\n",
      "Fold: 2\n",
      "Training until validation scores don't improve for 100 rounds\n",
      "[300]\tvalid_0's binary_logloss: 0.431872\n",
      "[600]\tvalid_0's binary_logloss: 0.43125\n",
      "[900]\tvalid_0's binary_logloss: 0.430984\n",
      "Did not meet early stopping. Best iteration is:\n",
      "[992]\tvalid_0's binary_logloss: 0.43087\n",
      "roc_auc_score: 0.8770543494099475\n",
      "--------------------------------------------------\n",
      "Fold: 3\n",
      "Training until validation scores don't improve for 100 rounds\n",
      "[300]\tvalid_0's binary_logloss: 0.442048\n",
      "[600]\tvalid_0's binary_logloss: 0.44142\n",
      "[900]\tvalid_0's binary_logloss: 0.441142\n",
      "Early stopping, best iteration is:\n",
      "[895]\tvalid_0's binary_logloss: 0.44114\n",
      "roc_auc_score: 0.8721270953106521\n",
      "--------------------------------------------------\n",
      "Fold: 4\n",
      "Training until validation scores don't improve for 100 rounds\n",
      "[300]\tvalid_0's binary_logloss: 0.439466\n",
      "[600]\tvalid_0's binary_logloss: 0.438899\n",
      "Early stopping, best iteration is:\n",
      "[782]\tvalid_0's binary_logloss: 0.438824\n",
      "roc_auc_score: 0.8709229804739002\n",
      "--------------------------------------------------\n",
      "Fold: 5\n",
      "Training until validation scores don't improve for 100 rounds\n",
      "[300]\tvalid_0's binary_logloss: 0.427545\n",
      "Early stopping, best iteration is:\n",
      "[445]\tvalid_0's binary_logloss: 0.42739\n",
      "roc_auc_score: 0.8792290845510382\n",
      "--------------------------------------------------\n",
      "Fold: 6\n",
      "Training until validation scores don't improve for 100 rounds\n",
      "[300]\tvalid_0's binary_logloss: 0.440554\n",
      "[600]\tvalid_0's binary_logloss: 0.439762\n",
      "[900]\tvalid_0's binary_logloss: 0.439505\n",
      "Did not meet early stopping. Best iteration is:\n",
      "[992]\tvalid_0's binary_logloss: 0.439332\n",
      "roc_auc_score: 0.8724167102621463\n",
      "--------------------------------------------------\n",
      "Fold: 7\n",
      "Training until validation scores don't improve for 100 rounds\n",
      "[300]\tvalid_0's binary_logloss: 0.423764\n",
      "Early stopping, best iteration is:\n",
      "[414]\tvalid_0's binary_logloss: 0.423534\n",
      "roc_auc_score: 0.8806521642373888\n",
      "--------------------------------------------------\n",
      "Fold: 8\n",
      "Training until validation scores don't improve for 100 rounds\n",
      "[300]\tvalid_0's binary_logloss: 0.440673\n",
      "Early stopping, best iteration is:\n",
      "[409]\tvalid_0's binary_logloss: 0.440262\n",
      "roc_auc_score: 0.8708570312002339\n",
      "--------------------------------------------------\n",
      "Fold: 9\n",
      "Training until validation scores don't improve for 100 rounds\n",
      "[300]\tvalid_0's binary_logloss: 0.441536\n",
      "[600]\tvalid_0's binary_logloss: 0.441034\n",
      "Early stopping, best iteration is:\n",
      "[661]\tvalid_0's binary_logloss: 0.440952\n",
      "roc_auc_score: 0.8713195377336685\n",
      "--------------------------------------------------\n"
     ]
    }
   ],
   "source": [
    "lgb_params = {'learning_rate':0.045, 'n_estimators':1000, 'max_bin':84, 'num_leaves':10, 'max_depth':20, 'reg_alpha':8.457, 'reg_lambda':6.853, 'subsample':0.749}\n",
    "lgb_model = cross_val(xc, yc, LGBMClassifier, lgb_params)"
   ]
  },
  {
   "cell_type": "code",
   "execution_count": 42,
   "metadata": {},
   "outputs": [],
   "source": [
    "clf3 = lgb_model.fit(xc_train,yc_train)\n",
    "lg_pred =clf3.predict(xc_test)"
   ]
  },
  {
   "cell_type": "code",
   "execution_count": 43,
   "metadata": {},
   "outputs": [
    {
     "name": "stdout",
     "output_type": "stream",
     "text": [
      " ROC_AUC score is  0.8804566893762799\n",
      " Accuracy score is  0.8039114770972723\n",
      " Precison score is  0.8269053330872855\n",
      " Recall score is  0.7687424944244295\n",
      " F1 score is  0.7967638691322901\n",
      " Classification report \n",
      "               precision    recall  f1-score   support\n",
      "\n",
      "         0.0       0.78      0.84      0.81     11658\n",
      "         1.0       0.83      0.77      0.80     11658\n",
      "\n",
      "    accuracy                           0.80     23316\n",
      "   macro avg       0.81      0.80      0.80     23316\n",
      "weighted avg       0.81      0.80      0.80     23316\n",
      "\n"
     ]
    },
    {
     "data": {
      "text/plain": [
       "<AxesSubplot:>"
      ]
     },
     "execution_count": 43,
     "metadata": {},
     "output_type": "execute_result"
    },
    {
     "data": {
      "image/png": "[encoded data removed]",
      "text/plain": [
       "<Figure size 576x396 with 2 Axes>"
      ]
     },
     "metadata": {},
     "output_type": "display_data"
    }
   ],
   "source": [
    "lg_pred_2 = clf3.predict_proba(xc_test)[:, 1]\n",
    "Fpr, Tpr, thresholds = roc_curve(yc_test, lg_pred_2, pos_label= True)\n",
    "auc = roc_auc_score(yc_test, pred_pb)\n",
    "\n",
    "print(\" ROC_AUC score is \", auc)\n",
    "print(\" Accuracy score is \", accuracy_score(yc_test, lg_pred))\n",
    "print(\" Precison score is \", precision_score(yc_test, lg_pred))\n",
    "print(\" Recall score is \", recall_score(yc_test, lg_pred))\n",
    "print(\" F1 score is \", f1_score(yc_test, lg_pred))\n",
    "print(\" Classification report \\n\", classification_report(yc_test, lg_pred))\n",
    "\n",
    "cnf = confusion_matrix(yc_test, lg_pred)\n",
    "sns.heatmap(cnf, annot = True, cmap = \"magma\")"
   ]
  },
  {
   "cell_type": "code",
   "execution_count": 44,
   "metadata": {},
   "outputs": [
    {
     "data": {
      "image/png": "[encoded data removed]",
      "text/plain": [
       "<Figure size 576x396 with 1 Axes>"
      ]
     },
     "metadata": {},
     "output_type": "display_data"
    }
   ],
   "source": [
    "plt.plot([0,1],[1,0],'g--')\n",
    "plt.plot(Fpr,Tpr)\n",
    "plt.xlabel('False_Positive_Rate')\n",
    "plt.ylabel('True_Positive_Rate')\n",
    "plt.title(\"LGB Classifier model\")\n",
    "plt.show()"
   ]
  },
  {
   "cell_type": "markdown",
   "metadata": {},
   "source": [
    "## PREDICTION"
   ]
  },
  {
   "cell_type": "code",
   "execution_count": 45,
   "metadata": {},
   "outputs": [],
   "source": [
    "df_3 = df_test"
   ]
  },
  {
   "cell_type": "code",
   "execution_count": 46,
   "metadata": {},
   "outputs": [
    {
     "data": {
      "text/html": [
       "<div>\n",
       "<style scoped>\n",
       "    .dataframe tbody tr th:only-of-type {\n",
       "        vertical-align: middle;\n",
       "    }\n",
       "\n",
       "    .dataframe tbody tr th {\n",
       "        vertical-align: top;\n",
       "    }\n",
       "\n",
       "    .dataframe thead th {\n",
       "        text-align: right;\n",
       "    }\n",
       "</style>\n",
       "<table border=\"1\" class=\"dataframe\">\n",
       "  <thead>\n",
       "    <tr style=\"text-align: right;\">\n",
       "      <th></th>\n",
       "      <th>ID</th>\n",
       "      <th>Gender</th>\n",
       "      <th>Age</th>\n",
       "      <th>Region_Code</th>\n",
       "      <th>Occupation</th>\n",
       "      <th>Channel_Code</th>\n",
       "      <th>Vintage</th>\n",
       "      <th>Credit_Product</th>\n",
       "      <th>Avg_Account_Balance</th>\n",
       "      <th>Is_Active</th>\n",
       "      <th>Is_Lead</th>\n",
       "      <th>source</th>\n",
       "    </tr>\n",
       "  </thead>\n",
       "  <tbody>\n",
       "    <tr>\n",
       "      <th>245725</th>\n",
       "      <td>VBENBARO</td>\n",
       "      <td>1</td>\n",
       "      <td>29</td>\n",
       "      <td>4</td>\n",
       "      <td>1</td>\n",
       "      <td>0</td>\n",
       "      <td>25</td>\n",
       "      <td>2</td>\n",
       "      <td>742366</td>\n",
       "      <td>0.0</td>\n",
       "      <td>NaN</td>\n",
       "      <td>test</td>\n",
       "    </tr>\n",
       "    <tr>\n",
       "      <th>245726</th>\n",
       "      <td>CCMEWNKY</td>\n",
       "      <td>1</td>\n",
       "      <td>43</td>\n",
       "      <td>18</td>\n",
       "      <td>1</td>\n",
       "      <td>1</td>\n",
       "      <td>49</td>\n",
       "      <td>0</td>\n",
       "      <td>925537</td>\n",
       "      <td>0.0</td>\n",
       "      <td>NaN</td>\n",
       "      <td>test</td>\n",
       "    </tr>\n",
       "    <tr>\n",
       "      <th>245727</th>\n",
       "      <td>VK3KGA9M</td>\n",
       "      <td>1</td>\n",
       "      <td>31</td>\n",
       "      <td>20</td>\n",
       "      <td>2</td>\n",
       "      <td>0</td>\n",
       "      <td>14</td>\n",
       "      <td>1</td>\n",
       "      <td>215949</td>\n",
       "      <td>0.0</td>\n",
       "      <td>NaN</td>\n",
       "      <td>test</td>\n",
       "    </tr>\n",
       "    <tr>\n",
       "      <th>245728</th>\n",
       "      <td>TT8RPZVC</td>\n",
       "      <td>1</td>\n",
       "      <td>29</td>\n",
       "      <td>22</td>\n",
       "      <td>1</td>\n",
       "      <td>0</td>\n",
       "      <td>33</td>\n",
       "      <td>1</td>\n",
       "      <td>868070</td>\n",
       "      <td>0.0</td>\n",
       "      <td>NaN</td>\n",
       "      <td>test</td>\n",
       "    </tr>\n",
       "    <tr>\n",
       "      <th>245729</th>\n",
       "      <td>SHQZEYTZ</td>\n",
       "      <td>0</td>\n",
       "      <td>29</td>\n",
       "      <td>20</td>\n",
       "      <td>1</td>\n",
       "      <td>0</td>\n",
       "      <td>19</td>\n",
       "      <td>1</td>\n",
       "      <td>657087</td>\n",
       "      <td>0.0</td>\n",
       "      <td>NaN</td>\n",
       "      <td>test</td>\n",
       "    </tr>\n",
       "  </tbody>\n",
       "</table>\n",
       "</div>"
      ],
      "text/plain": [
       "              ID  Gender  Age  Region_Code  Occupation  Channel_Code  Vintage  \\\n",
       "245725  VBENBARO       1   29            4           1             0       25   \n",
       "245726  CCMEWNKY       1   43           18           1             1       49   \n",
       "245727  VK3KGA9M       1   31           20           2             0       14   \n",
       "245728  TT8RPZVC       1   29           22           1             0       33   \n",
       "245729  SHQZEYTZ       0   29           20           1             0       19   \n",
       "\n",
       "        Credit_Product  Avg_Account_Balance  Is_Active  Is_Lead source  \n",
       "245725               2               742366        0.0      NaN   test  \n",
       "245726               0               925537        0.0      NaN   test  \n",
       "245727               1               215949        0.0      NaN   test  \n",
       "245728               1               868070        0.0      NaN   test  \n",
       "245729               1               657087        0.0      NaN   test  "
      ]
     },
     "execution_count": 46,
     "metadata": {},
     "output_type": "execute_result"
    }
   ],
   "source": [
    "df_3.head()"
   ]
  },
  {
   "cell_type": "code",
   "execution_count": 50,
   "metadata": {},
   "outputs": [],
   "source": [
    "df_3 = df_3.drop(columns = ['source'])"
   ]
  },
  {
   "cell_type": "code",
   "execution_count": 51,
   "metadata": {},
   "outputs": [
    {
     "data": {
      "text/html": [
       "<div>\n",
       "<style scoped>\n",
       "    .dataframe tbody tr th:only-of-type {\n",
       "        vertical-align: middle;\n",
       "    }\n",
       "\n",
       "    .dataframe tbody tr th {\n",
       "        vertical-align: top;\n",
       "    }\n",
       "\n",
       "    .dataframe thead th {\n",
       "        text-align: right;\n",
       "    }\n",
       "</style>\n",
       "<table border=\"1\" class=\"dataframe\">\n",
       "  <thead>\n",
       "    <tr style=\"text-align: right;\">\n",
       "      <th></th>\n",
       "      <th>ID</th>\n",
       "      <th>Gender</th>\n",
       "      <th>Age</th>\n",
       "      <th>Region_Code</th>\n",
       "      <th>Occupation</th>\n",
       "      <th>Channel_Code</th>\n",
       "      <th>Vintage</th>\n",
       "      <th>Credit_Product</th>\n",
       "      <th>Avg_Account_Balance</th>\n",
       "      <th>Is_Active</th>\n",
       "      <th>Is_Lead</th>\n",
       "    </tr>\n",
       "  </thead>\n",
       "  <tbody>\n",
       "    <tr>\n",
       "      <th>245725</th>\n",
       "      <td>VBENBARO</td>\n",
       "      <td>1</td>\n",
       "      <td>29</td>\n",
       "      <td>4</td>\n",
       "      <td>1</td>\n",
       "      <td>0</td>\n",
       "      <td>25</td>\n",
       "      <td>2</td>\n",
       "      <td>742366</td>\n",
       "      <td>0.0</td>\n",
       "      <td>NaN</td>\n",
       "    </tr>\n",
       "    <tr>\n",
       "      <th>245726</th>\n",
       "      <td>CCMEWNKY</td>\n",
       "      <td>1</td>\n",
       "      <td>43</td>\n",
       "      <td>18</td>\n",
       "      <td>1</td>\n",
       "      <td>1</td>\n",
       "      <td>49</td>\n",
       "      <td>0</td>\n",
       "      <td>925537</td>\n",
       "      <td>0.0</td>\n",
       "      <td>NaN</td>\n",
       "    </tr>\n",
       "    <tr>\n",
       "      <th>245727</th>\n",
       "      <td>VK3KGA9M</td>\n",
       "      <td>1</td>\n",
       "      <td>31</td>\n",
       "      <td>20</td>\n",
       "      <td>2</td>\n",
       "      <td>0</td>\n",
       "      <td>14</td>\n",
       "      <td>1</td>\n",
       "      <td>215949</td>\n",
       "      <td>0.0</td>\n",
       "      <td>NaN</td>\n",
       "    </tr>\n",
       "    <tr>\n",
       "      <th>245728</th>\n",
       "      <td>TT8RPZVC</td>\n",
       "      <td>1</td>\n",
       "      <td>29</td>\n",
       "      <td>22</td>\n",
       "      <td>1</td>\n",
       "      <td>0</td>\n",
       "      <td>33</td>\n",
       "      <td>1</td>\n",
       "      <td>868070</td>\n",
       "      <td>0.0</td>\n",
       "      <td>NaN</td>\n",
       "    </tr>\n",
       "    <tr>\n",
       "      <th>245729</th>\n",
       "      <td>SHQZEYTZ</td>\n",
       "      <td>0</td>\n",
       "      <td>29</td>\n",
       "      <td>20</td>\n",
       "      <td>1</td>\n",
       "      <td>0</td>\n",
       "      <td>19</td>\n",
       "      <td>1</td>\n",
       "      <td>657087</td>\n",
       "      <td>0.0</td>\n",
       "      <td>NaN</td>\n",
       "    </tr>\n",
       "  </tbody>\n",
       "</table>\n",
       "</div>"
      ],
      "text/plain": [
       "              ID  Gender  Age  Region_Code  Occupation  Channel_Code  Vintage  \\\n",
       "245725  VBENBARO       1   29            4           1             0       25   \n",
       "245726  CCMEWNKY       1   43           18           1             1       49   \n",
       "245727  VK3KGA9M       1   31           20           2             0       14   \n",
       "245728  TT8RPZVC       1   29           22           1             0       33   \n",
       "245729  SHQZEYTZ       0   29           20           1             0       19   \n",
       "\n",
       "        Credit_Product  Avg_Account_Balance  Is_Active  Is_Lead  \n",
       "245725               2               742366        0.0      NaN  \n",
       "245726               0               925537        0.0      NaN  \n",
       "245727               1               215949        0.0      NaN  \n",
       "245728               1               868070        0.0      NaN  \n",
       "245729               1               657087        0.0      NaN  "
      ]
     },
     "execution_count": 51,
     "metadata": {},
     "output_type": "execute_result"
    }
   ],
   "source": [
    "df_3.head()"
   ]
  },
  {
   "cell_type": "code",
   "execution_count": 52,
   "metadata": {},
   "outputs": [],
   "source": [
    "xc_pred = df_3.drop(columns = [\"ID\", \"Is_Lead\"])"
   ]
  },
  {
   "cell_type": "code",
   "execution_count": 55,
   "metadata": {},
   "outputs": [],
   "source": [
    "sc = StandardScaler()\n",
    "df_xc_pred = pd.DataFrame(sc.fit_transform(xc_pred), columns = xc_pred.columns)"
   ]
  },
  {
   "cell_type": "code",
   "execution_count": 56,
   "metadata": {},
   "outputs": [],
   "source": [
    "lead_pred_xg = clf2.predict_proba(df_xc_pred)[:, 1]\n",
    "lead_pred_lgb = clf3.predict_proba(df_xc_pred)[:, 1]\n",
    "lead_pred_rf = rf_clf.predict_proba(df_xc_pred)[:, 1]"
   ]
  },
  {
   "cell_type": "code",
   "execution_count": 57,
   "metadata": {},
   "outputs": [],
   "source": [
    "#Dataframe for lead prediction\n",
    "lead_pred_lgb= pd.DataFrame(lead_pred_lgb,columns=[\"Is_Lead\"])\n",
    "lead_pred_xg= pd.DataFrame(lead_pred_xg,columns=[\"Is_Lead\"])\n",
    "lead_pred_rf= pd.DataFrame(lead_pred_rf,columns=[\"Is_Lead\"])"
   ]
  },
  {
   "cell_type": "code",
   "execution_count": 58,
   "metadata": {},
   "outputs": [
    {
     "data": {
      "text/html": [
       "<div>\n",
       "<style scoped>\n",
       "    .dataframe tbody tr th:only-of-type {\n",
       "        vertical-align: middle;\n",
       "    }\n",
       "\n",
       "    .dataframe tbody tr th {\n",
       "        vertical-align: top;\n",
       "    }\n",
       "\n",
       "    .dataframe thead th {\n",
       "        text-align: right;\n",
       "    }\n",
       "</style>\n",
       "<table border=\"1\" class=\"dataframe\">\n",
       "  <thead>\n",
       "    <tr style=\"text-align: right;\">\n",
       "      <th></th>\n",
       "      <th>index</th>\n",
       "      <th>ID</th>\n",
       "      <th>Gender</th>\n",
       "      <th>Age</th>\n",
       "      <th>Region_Code</th>\n",
       "      <th>Occupation</th>\n",
       "      <th>Channel_Code</th>\n",
       "      <th>Vintage</th>\n",
       "      <th>Credit_Product</th>\n",
       "      <th>Avg_Account_Balance</th>\n",
       "      <th>Is_Active</th>\n",
       "      <th>Is_Lead</th>\n",
       "      <th>source</th>\n",
       "    </tr>\n",
       "  </thead>\n",
       "  <tbody>\n",
       "    <tr>\n",
       "      <th>0</th>\n",
       "      <td>245725</td>\n",
       "      <td>VBENBARO</td>\n",
       "      <td>1</td>\n",
       "      <td>29</td>\n",
       "      <td>4</td>\n",
       "      <td>1</td>\n",
       "      <td>0</td>\n",
       "      <td>25</td>\n",
       "      <td>2</td>\n",
       "      <td>742366</td>\n",
       "      <td>0.0</td>\n",
       "      <td>NaN</td>\n",
       "      <td>test</td>\n",
       "    </tr>\n",
       "    <tr>\n",
       "      <th>1</th>\n",
       "      <td>245726</td>\n",
       "      <td>CCMEWNKY</td>\n",
       "      <td>1</td>\n",
       "      <td>43</td>\n",
       "      <td>18</td>\n",
       "      <td>1</td>\n",
       "      <td>1</td>\n",
       "      <td>49</td>\n",
       "      <td>0</td>\n",
       "      <td>925537</td>\n",
       "      <td>0.0</td>\n",
       "      <td>NaN</td>\n",
       "      <td>test</td>\n",
       "    </tr>\n",
       "    <tr>\n",
       "      <th>2</th>\n",
       "      <td>245727</td>\n",
       "      <td>VK3KGA9M</td>\n",
       "      <td>1</td>\n",
       "      <td>31</td>\n",
       "      <td>20</td>\n",
       "      <td>2</td>\n",
       "      <td>0</td>\n",
       "      <td>14</td>\n",
       "      <td>1</td>\n",
       "      <td>215949</td>\n",
       "      <td>0.0</td>\n",
       "      <td>NaN</td>\n",
       "      <td>test</td>\n",
       "    </tr>\n",
       "    <tr>\n",
       "      <th>3</th>\n",
       "      <td>245728</td>\n",
       "      <td>TT8RPZVC</td>\n",
       "      <td>1</td>\n",
       "      <td>29</td>\n",
       "      <td>22</td>\n",
       "      <td>1</td>\n",
       "      <td>0</td>\n",
       "      <td>33</td>\n",
       "      <td>1</td>\n",
       "      <td>868070</td>\n",
       "      <td>0.0</td>\n",
       "      <td>NaN</td>\n",
       "      <td>test</td>\n",
       "    </tr>\n",
       "    <tr>\n",
       "      <th>4</th>\n",
       "      <td>245729</td>\n",
       "      <td>SHQZEYTZ</td>\n",
       "      <td>0</td>\n",
       "      <td>29</td>\n",
       "      <td>20</td>\n",
       "      <td>1</td>\n",
       "      <td>0</td>\n",
       "      <td>19</td>\n",
       "      <td>1</td>\n",
       "      <td>657087</td>\n",
       "      <td>0.0</td>\n",
       "      <td>NaN</td>\n",
       "      <td>test</td>\n",
       "    </tr>\n",
       "  </tbody>\n",
       "</table>\n",
       "</div>"
      ],
      "text/plain": [
       "    index        ID  Gender  Age  Region_Code  Occupation  Channel_Code  \\\n",
       "0  245725  VBENBARO       1   29            4           1             0   \n",
       "1  245726  CCMEWNKY       1   43           18           1             1   \n",
       "2  245727  VK3KGA9M       1   31           20           2             0   \n",
       "3  245728  TT8RPZVC       1   29           22           1             0   \n",
       "4  245729  SHQZEYTZ       0   29           20           1             0   \n",
       "\n",
       "   Vintage  Credit_Product  Avg_Account_Balance  Is_Active  Is_Lead source  \n",
       "0       25               2               742366        0.0      NaN   test  \n",
       "1       49               0               925537        0.0      NaN   test  \n",
       "2       14               1               215949        0.0      NaN   test  \n",
       "3       33               1               868070        0.0      NaN   test  \n",
       "4       19               1               657087        0.0      NaN   test  "
      ]
     },
     "execution_count": 58,
     "metadata": {},
     "output_type": "execute_result"
    }
   ],
   "source": [
    "df_test = df_test.reset_index()\n",
    "df_test.head()"
   ]
  },
  {
   "cell_type": "code",
   "execution_count": 59,
   "metadata": {},
   "outputs": [
    {
     "name": "stdout",
     "output_type": "stream",
     "text": [
      "         ID   Is_Lead\n",
      "0  VBENBARO  0.096735\n",
      "1  CCMEWNKY  0.942843\n",
      "2  VK3KGA9M  0.127288\n",
      "3  TT8RPZVC  0.052260\n",
      "4  SHQZEYTZ  0.057762\n",
      "         ID   Is_Lead\n",
      "0  VBENBARO  0.144043\n",
      "1  CCMEWNKY  0.939953\n",
      "2  VK3KGA9M  0.144847\n",
      "3  TT8RPZVC  0.077729\n",
      "4  SHQZEYTZ  0.060617\n",
      "         ID  Is_Lead\n",
      "0  VBENBARO     0.17\n",
      "1  CCMEWNKY     0.97\n",
      "2  VK3KGA9M     0.09\n",
      "3  TT8RPZVC     0.12\n",
      "4  SHQZEYTZ     0.09\n"
     ]
    }
   ],
   "source": [
    "#Saving ID  and prediction to csv file for XG Model\n",
    "df_pred_xg=pd.concat([df_test[\"ID\"],lead_pred_xg],axis=1,ignore_index=True)\n",
    "df_pred_xg.columns = [\"ID\",\"Is_Lead\"]\n",
    "print(df_pred_xg.head())\n",
    "df_pred_xg.to_csv(\"Credit_Card_Lead_Predictions_final_XG.csv\",index=False)\n",
    "\n",
    "#Saving ID  and prediction to csv file for LGB Model\n",
    "df_pred_lgb=pd.concat([df_test[\"ID\"],lead_pred_lgb],axis=1,ignore_index=True)\n",
    "df_pred_lgb.columns = [\"ID\",\"Is_Lead\"]\n",
    "print(df_pred_lgb.head())\n",
    "df_pred_lgb.to_csv(\"Credit_Card_Lead_Predictions_final_LGB.csv\",index=False)\n",
    "\n",
    "#Saving ID  and prediction to csv file for RF model\n",
    "df_pred_rf=pd.concat([df_test[\"ID\"],lead_pred_rf],axis=1,ignore_index=True)\n",
    "df_pred_rf.columns = [\"ID\",\"Is_Lead\"]\n",
    "print(df_pred_rf.head())\n",
    "df_pred_rf.to_csv(\"Credit_Card_Lead_Predictions_final_RF.csv\",index=False)"
   ]
  },
  {
   "cell_type": "markdown",
   "metadata": {},
   "source": [
    "## 6) OVERALL REMARKS"
   ]
  },
  {
   "cell_type": "markdown",
   "metadata": {},
   "source": [
    "###### Data contained both categorical and numerical data. Converted categories to numerical for EDA analysis.\n",
    "###### Also conducted visual analysis to observe following:\n",
    "\n",
    "###### IndentActive customers are more in salaried,self_employed and others as compared to entrepreneur in last 3 months.\n",
    "###### Data is skewed towards left in Avg_Account_Balance\n",
    "###### Target Variable is imbalanced and needed to be corrected for proper modelling.\n",
    "###### Dataset was balanced by using undersampling technique.\n",
    "\n",
    "###### Random Forest Classifier:\n",
    "\n",
    "###### Found RandomForest model had the highest AUC score(0.91) among various base models.\n",
    "###### However, as the predicted probability was meaned in RF model upto 2 decimal places the resultant AUC score with test data was found to be ~ 0.85\n",
    "\n",
    "###### XG Boost Classifier:\n",
    "\n",
    "###### To further boost the accuracy XG Boost method was used and AUC score of 0.87 was found with the training data.\n",
    "###### However, XG boost auc score with test data dropped to ~ 0.86 due to overfitting issues.\n",
    "\n",
    "###### LGBM Classifier with stratified cross-validation:\n",
    "\n",
    "###### To solve overfitting issues, LGBM model with 10-fold cross-validation was used and AUC score 0.874 with training data.\n",
    "###### Model performed very well with test data and provided auc score of ~0.871\n",
    "###### Hence, final model is selected as LGBM model as it is most consistent model with highest AUC score."
   ]
  },
  {
   "cell_type": "markdown",
   "metadata": {},
   "source": [
    "## SAVING THE MODEL"
   ]
  },
  {
   "cell_type": "code",
   "execution_count": 60,
   "metadata": {},
   "outputs": [
    {
     "data": {
      "text/plain": [
       "['lgb_model.pkl']"
      ]
     },
     "execution_count": 60,
     "metadata": {},
     "output_type": "execute_result"
    }
   ],
   "source": [
    "import joblib\n",
    "#save the model as a pickle in a file \n",
    "joblib.dump(lgb_model,'lgb_model.pkl')"
   ]
  }
 ],
 "metadata": {
  "kernelspec": {
   "display_name": "Python 3",
   "language": "python",
   "name": "python3"
  },
  "language_info": {
   "codemirror_mode": {
    "name": "ipython",
    "version": 3
   },
   "file_extension": ".py",
   "mimetype": "text/x-python",
   "name": "python",
   "nbconvert_exporter": "python",
   "pygments_lexer": "ipython3",
   "version": "3.8.8"
  }
 },
 "nbformat": 4,
 "nbformat_minor": 2
}
